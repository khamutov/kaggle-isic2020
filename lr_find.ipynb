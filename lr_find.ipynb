{
 "cells": [
  {
   "cell_type": "code",
   "execution_count": 1,
   "metadata": {},
   "outputs": [],
   "source": [
    "from pathlib import Path"
   ]
  },
  {
   "cell_type": "code",
   "execution_count": 2,
   "metadata": {},
   "outputs": [],
   "source": [
    "from train_eval import *"
   ]
  },
  {
   "cell_type": "code",
   "execution_count": 3,
   "metadata": {},
   "outputs": [],
   "source": [
    "import cli"
   ]
  },
  {
   "cell_type": "code",
   "execution_count": 13,
   "metadata": {},
   "outputs": [],
   "source": [
    "opts = cli.RunOptions()\n",
    "opts.dataset_malignant_256=Path(\"/home/a.khamutov/kaggle-datasource/jpeg-melanoma-256x256\")\n",
    "opts.dataset_official=Path(\"/home/a.khamutov/kaggle\")\n",
    "opts.num_workers=0\n",
    "opts.device=\"cuda:1\"\n",
    "\n",
    "config = opts\n",
    "torch.cuda.set_device(config.device)"
   ]
  },
  {
   "cell_type": "code",
   "execution_count": 14,
   "metadata": {},
   "outputs": [],
   "source": [
    "train_df, test_df, meta_features = load_dataset(opts)"
   ]
  },
  {
   "cell_type": "code",
   "execution_count": 15,
   "metadata": {},
   "outputs": [],
   "source": [
    "train_transform = transforms.Compose([\n",
    "    #     HairGrowth(hairs = 5,hairs_folder='/kaggle/input/melanoma-hairs/'),\n",
    "    transforms.RandomResizedCrop(size=256, scale=(0.7, 1.0)),\n",
    "    transforms.RandomHorizontalFlip(),\n",
    "    transforms.RandomVerticalFlip(),\n",
    "    transforms.ColorJitter(brightness=32. / 255., saturation=0.5, hue=0.01),\n",
    "    transforms.ToTensor(),\n",
    "    transforms.Normalize(mean=[0.485, 0.456, 0.406], std=[0.229, 0.224, 0.225])\n",
    "])"
   ]
  },
  {
   "cell_type": "code",
   "execution_count": 16,
   "metadata": {},
   "outputs": [],
   "source": [
    "def get_train_val_split(df):\n",
    "    #Remove Duplicates\n",
    "    df = df[df.tfrecord != -1].reset_index(drop=True)\n",
    "    #We are splitting data based on triple stratified kernel provided here https://www.kaggle.com/c/siim-isic-melanoma-classification/discussion/165526\n",
    "    train_tf_records = list(range(len(df.tfrecord.unique())))[:12]\n",
    "    split_cond = df.tfrecord.apply(lambda x: x in train_tf_records)\n",
    "    train_df = df[split_cond].reset_index()\n",
    "    valid_df = df[~split_cond].reset_index()\n",
    "    return train_df,valid_df"
   ]
  },
  {
   "cell_type": "code",
   "execution_count": 17,
   "metadata": {},
   "outputs": [],
   "source": [
    "df_trn, df_vld = get_train_val_split(train_df)"
   ]
  },
  {
   "cell_type": "code",
   "execution_count": 18,
   "metadata": {},
   "outputs": [],
   "source": [
    "class MelanomaDataset(Dataset):\n",
    "    def __init__(self, df: pd.DataFrame, imfolder: str, is_train: bool = True, transforms=None, meta_features=None):\n",
    "\n",
    "        self.df = df\n",
    "        self.imfolder = imfolder\n",
    "        self.transforms = transforms\n",
    "        self.is_train = is_train\n",
    "        self.meta_features = meta_features\n",
    "\n",
    "    def __getitem__(self, index):\n",
    "        im_path = os.path.join(self.imfolder, self.df.iloc[index]['image_name'] + '.jpg')\n",
    "        image = cv2.imread(im_path)\n",
    "        image = cv2.cvtColor(image, cv2.COLOR_BGR2RGB)\n",
    "        metadata = np.array(self.df.iloc[index][self.meta_features].values, dtype=np.float32)\n",
    "\n",
    "        if self.transforms:\n",
    "            image = self.transforms(image)\n",
    "\n",
    "        if self.is_train:\n",
    "            y = self.df.iloc[index]['target']\n",
    "            #             image = image.cuda()\n",
    "            return (image, metadata), float(y)\n",
    "        else:\n",
    "            return (image, metadata)\n",
    "\n",
    "    def __len__(self):\n",
    "        return len(self.df)"
   ]
  },
  {
   "cell_type": "code",
   "execution_count": 19,
   "metadata": {},
   "outputs": [],
   "source": [
    "class EfficientNetwork(nn.Module):\n",
    "    def __init__(self, output_size, no_columns, model_name='efficientnet-b0'):\n",
    "        super().__init__()\n",
    "        self.no_columns = no_columns\n",
    "\n",
    "        self.features = EfficientNet.from_pretrained(model_name)\n",
    "\n",
    "        # (CSV) or Meta Features\n",
    "        meta_features_out = 250\n",
    "        self.csv = nn.Sequential(nn.Linear(self.no_columns, 250),\n",
    "                                 nn.BatchNorm1d(250),\n",
    "                                 nn.ReLU(),\n",
    "                                 nn.Dropout(p=0.3),\n",
    "\n",
    "                                 nn.Linear(250, 250),\n",
    "                                 nn.BatchNorm1d(250),\n",
    "                                 nn.ReLU(),\n",
    "                                 nn.Dropout(p=0.3),\n",
    "\n",
    "                                 nn.Linear(250, meta_features_out),\n",
    "                                 nn.BatchNorm1d(meta_features_out),\n",
    "                                 nn.ReLU(),\n",
    "                                 nn.Dropout(p=0.3))\n",
    "\n",
    "        self.eff_net_out_features = getattr(self.features, '_fc').in_features\n",
    "\n",
    "        fc_hidden_size = 250\n",
    "        self.classification = nn.Sequential(nn.Linear(self.eff_net_out_features + meta_features_out, fc_hidden_size),\n",
    "                                            nn.Linear(fc_hidden_size, output_size))\n",
    "\n",
    "    def forward(self, data, prints=False):\n",
    "        \n",
    "        image, csv_data = data[0], data[1]\n",
    "\n",
    "        if prints:\n",
    "            print('Input Image shape:', image.shape, '\\n' +\n",
    "                  'Input csv_data shape:', csv_data.shape)\n",
    "\n",
    "        # IMAGE CNN\n",
    "        image = self.features.extract_features(image)\n",
    "\n",
    "        if prints:\n",
    "            print('Features Image shape:', image.shape)\n",
    "\n",
    "        # image = F.avg_pool2d(image, image.size()[2:]).reshape(-1, self.eff_net_out_features)\n",
    "        features = F.adaptive_avg_pool2d(image, 1)\n",
    "        image = features.view(features.size(0), -1)\n",
    "        if prints:\n",
    "            print('Image Reshaped shape:', image.shape)\n",
    "\n",
    "        # CSV FNN\n",
    "        csv_data = self.csv(csv_data)\n",
    "        if prints:\n",
    "            print('CSV Data:', csv_data.shape)\n",
    "\n",
    "        # Concatenate\n",
    "        image_csv_data = torch.cat((image, csv_data), dim=1)\n",
    "\n",
    "        # CLASSIF\n",
    "        out = self.classification(image_csv_data)\n",
    "        if prints:\n",
    "            print('Out shape:', out.shape)\n",
    "\n",
    "        return out.squeeze()"
   ]
  },
  {
   "cell_type": "code",
   "execution_count": 23,
   "metadata": {},
   "outputs": [
    {
     "name": "stdout",
     "output_type": "stream",
     "text": [
      "Loaded pretrained weights for efficientnet-b0\n"
     ]
    }
   ],
   "source": [
    "output_size = 1\n",
    "train_dataset = MelanomaDataset(df=df_trn,\n",
    "                                imfolder=config.dataset_malignant_256 / 'train',\n",
    "                                is_train=True,\n",
    "                                transforms=train_transform,\n",
    "                                meta_features=meta_features)\n",
    "# val = MelanomaDataset(df=df_vld,\n",
    "#                       imfolder=config.dataset_malignant_256 / 'train',\n",
    "#                       is_train=True,\n",
    "#                       transforms=test_transform,\n",
    "#                       meta_features=meta_features)\n",
    "train_loader = DataLoader(dataset=train_dataset,\n",
    "                          batch_size=config.batch_size,\n",
    "                          shuffle=True,\n",
    "                          num_workers=config.num_workers,\n",
    "                          pin_memory=True,\n",
    "                          drop_last=True)\n",
    "# val_loader = DataLoader(dataset=val,\n",
    "#                         batch_size=config.batch_size,\n",
    "#                         shuffle=False,\n",
    "#                         num_workers=config.num_workers,\n",
    "#                         pin_memory=True)\n",
    "\n",
    "model = EfficientNetwork(output_size=output_size, no_columns=len(meta_features), model_name='efficientnet-b0')\n",
    "model = model.to(config.device)\n",
    "\n",
    "criterion = nn.BCEWithLogitsLoss()\n",
    "\n",
    "config.learning_rate = 1e-8\n",
    "config.weight_decay = 1e-4\n",
    "optimizer = torch.optim.AdamW(model.parameters(), lr=config.learning_rate, weight_decay=config.weight_decay)\n",
    "\n"
   ]
  },
  {
   "cell_type": "code",
   "execution_count": 24,
   "metadata": {},
   "outputs": [
    {
     "data": {
      "application/vnd.jupyter.widget-view+json": {
       "model_id": "aefcd98a967f4de2a999b4d4f9d37f60",
       "version_major": 2,
       "version_minor": 0
      },
      "text/plain": [
       "HBox(children=(FloatProgress(value=0.0), HTML(value='')))"
      ]
     },
     "metadata": {},
     "output_type": "display_data"
    },
    {
     "name": "stdout",
     "output_type": "stream",
     "text": [
      "Stopping early, the loss has diverged\n",
      "\n",
      "Learning rate search finished. See the graph with {finder_name}.plot()\n"
     ]
    },
    {
     "data": {
      "image/png": "[encoded data removed]",
      "text/plain": [
       "<Figure size 432x288 with 1 Axes>"
      ]
     },
     "metadata": {
      "needs_background": "light"
     },
     "output_type": "display_data"
    }
   ],
   "source": [
    "from torch_lr_finder import LRFinder\n",
    "\n",
    "lr_finder = LRFinder(model, optimizer, criterion, config.device)\n",
    "lr_finder.range_test(train_loader, end_lr=100, num_iter=100, start_lr=1e-8)\n",
    "lr_finder.plot() # to inspect the loss-learning rate graph\n",
    "lr_finder.reset() # to reset the model and optimizer to their initial state"
   ]
  },
  {
   "cell_type": "code",
   "execution_count": null,
   "metadata": {},
   "outputs": [],
   "source": []
  }
 ],
 "metadata": {
  "kernelspec": {
   "display_name": "Python 3",
   "language": "python",
   "name": "python3"
  },
  "language_info": {
   "codemirror_mode": {
    "name": "ipython",
    "version": 3
   },
   "file_extension": ".py",
   "mimetype": "text/x-python",
   "name": "python",
   "nbconvert_exporter": "python",
   "pygments_lexer": "ipython3",
   "version": "3.7.7"
  }
 },
 "nbformat": 4,
 "nbformat_minor": 4
}
